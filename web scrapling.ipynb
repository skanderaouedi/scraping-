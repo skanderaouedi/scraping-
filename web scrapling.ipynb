{
 "cells": [
  {
   "cell_type": "code",
   "execution_count": null,
   "metadata": {},
   "outputs": [],
   "source": [
    "#relevant packages and modules\n",
    "from selenium import webdriver\n",
    "from selenium.webdriver.common.keys import Keys\n",
    "from selenium.webdriver.common.by import By\n",
    "from selenium.webdriver.chrome.options import Options\n",
    "import time"
   ]
  },
  {
   "cell_type": "code",
   "execution_count": null,
   "metadata": {},
   "outputs": [],
   "source": [
    "#RELEVANT WEB SITE\n",
    "web1=\"https://www.geekbuying.com/bestselling/\"\n",
    "web2=\"http://automationpractice.com/index.php\""
   ]
  },
  {
   "cell_type": "code",
   "execution_count": null,
   "metadata": {},
   "outputs": [],
   "source": [
    "#initialize chrome\n",
    "driver=webdriver.Chrome('D:\\chromedriver.exe')\n",
    "driver.get(web1)\n",
    "#maximize window\n",
    "driver.maximize_window()"
   ]
  },
  {
   "cell_type": "markdown",
   "metadata": {},
   "source": [
    "xpath-Locator"
   ]
  },
  {
   "cell_type": "code",
   "execution_count": null,
   "metadata": {},
   "outputs": [],
   "source": [
    "price=driver.find_element_by_xpath('//li/div/span[@class=\"items_price\"][1]')"
   ]
  },
  {
   "cell_type": "code",
   "execution_count": null,
   "metadata": {},
   "outputs": [],
   "source": [
    "print(price.text) "
   ]
  },
  {
   "cell_type": "code",
   "execution_count": null,
   "metadata": {},
   "outputs": [],
   "source": [
    "prices=driver.find_elements_by_xpath('//li/div/span[@class=\"items_price\"]')"
   ]
  },
  {
   "cell_type": "code",
   "execution_count": null,
   "metadata": {},
   "outputs": [],
   "source": [
    "print( [x.text for x in prices])"
   ]
  },
  {
   "cell_type": "code",
   "execution_count": null,
   "metadata": {},
   "outputs": [],
   "source": [
    "names=driver.find_elements_by_class_name('items_p')"
   ]
  },
  {
   "cell_type": "code",
   "execution_count": null,
   "metadata": {},
   "outputs": [],
   "source": [
    "print( [x.text for x in names] ,\"\\n\")"
   ]
  },
  {
   "cell_type": "markdown",
   "metadata": {},
   "source": [
    "Id locator"
   ]
  },
  {
   "cell_type": "code",
   "execution_count": null,
   "metadata": {},
   "outputs": [],
   "source": [
    "#initialize chrome\n",
    "driver=webdriver.Chrome('D:\\chromedriver.exe')\n",
    "driver.get(web2)\n",
    "time.sleep(1)\n",
    "#maximize window\n",
    "driver.maximize_window()\n",
    "search=driver.find_element_by_id('search_query_top')\n",
    "#click\n",
    "search.click()\n",
    "time.sleep(1)\n",
    "search.send_keys('heee')"
   ]
  },
  {
   "cell_type": "markdown",
   "metadata": {},
   "source": [
    "Name locator"
   ]
  },
  {
   "cell_type": "code",
   "execution_count": null,
   "metadata": {},
   "outputs": [],
   "source": [
    "search_button=driver.find_element_by_name('submit_search')\n",
    "search_button.click()"
   ]
  },
  {
   "cell_type": "markdown",
   "metadata": {},
   "source": [
    "LinkText -Lovator\n"
   ]
  },
  {
   "cell_type": "code",
   "execution_count": null,
   "metadata": {},
   "outputs": [],
   "source": [
    "driver=webdriver.Chrome('D:\\chromedriver.exe')\n",
    "driver.get(web2)\n",
    "time.sleep(1)\n",
    "contac=driver.find_element_by_link_text('Contact us')\n",
    "contac.click()"
   ]
  },
  {
   "cell_type": "markdown",
   "metadata": {},
   "source": [
    "Partial LinkText -locator"
   ]
  },
  {
   "cell_type": "code",
   "execution_count": null,
   "metadata": {},
   "outputs": [],
   "source": [
    "driver=webdriver.Chrome('D:\\chromedriver.exe')\n",
    "driver.get(web2)\n",
    "time.sleep(1)\n",
    "\n",
    "contact=driver.find_element_by_partial_link_text('ntact u')\n",
    "contact.click()"
   ]
  },
  {
   "cell_type": "markdown",
   "metadata": {},
   "source": [
    "Diffrent ways to use Locators "
   ]
  },
  {
   "cell_type": "code",
   "execution_count": null,
   "metadata": {},
   "outputs": [],
   "source": [
    "#option 1-Xpath Locator\n",
    "prices=driver.find_elements_by_xpath('//li/div/span[@class=\"items_price\"]')"
   ]
  },
  {
   "cell_type": "code",
   "execution_count": null,
   "metadata": {},
   "outputs": [],
   "source": [
    "#option 2 - Xpath Locator\n",
    "prices_2=driver.find_elements(By.XPATH('//li/div/span[@class=\"items_price\"]') )\n",
    "search2=driver.find_elements(By.ID('search_query_top') )"
   ]
  },
  {
   "cell_type": "markdown",
   "metadata": {},
   "source": [
    "Selenium in ACTION"
   ]
  },
  {
   "cell_type": "code",
   "execution_count": null,
   "metadata": {},
   "outputs": [],
   "source": [
    "#initialize chrome\n",
    "driver=webdriver.Chrome('D:\\chromedriver.exe')\n",
    "driver.get(web2)\n",
    "time.sleep(1)\n",
    "#maximize window\n",
    "driver.maximize_window()\n",
    "#send keys and click on button\n",
    "search=driver.find_element_by_id('search_query_top')\n",
    "search.click()\n",
    "time.sleep(1)\n",
    "#type text inside the search bar\n",
    "search.send_keys('heee')\n",
    "time.sleep(1)\n",
    "#submit search request\n",
    "search_button=driver.find_element_by_name('submit_search')\n",
    "search_button.click()\n",
    "#go back\n",
    "driver.back()\n",
    "time.sleep(1)\n",
    "#click contact us -- link text locator\n",
    "contac=driver.find_element_by_link_text('Contact us')\n",
    "contac.click()\n",
    "#close driver at the end\n",
    "driver.close()\n"
   ]
  },
  {
   "cell_type": "markdown",
   "metadata": {},
   "source": [
    "Optional : Run everything in one step -headless"
   ]
  },
  {
   "cell_type": "code",
   "execution_count": 45,
   "metadata": {},
   "outputs": [
    {
     "name": "stderr",
     "output_type": "stream",
     "text": [
      "C:\\Users\\skand\\AppData\\Local\\Temp/ipykernel_30188/630830232.py:4: DeprecationWarning: executable_path has been deprecated, please pass in a Service object\n",
      "  driver=webdriver.Chrome('D:\\chromedriver.exe',options=chrome_options)\n"
     ]
    },
    {
     "name": "stdout",
     "output_type": "stream",
     "text": [
      "web site was opned\n"
     ]
    },
    {
     "name": "stderr",
     "output_type": "stream",
     "text": [
      "C:\\Users\\skand\\AppData\\Local\\Temp/ipykernel_30188/630830232.py:11: DeprecationWarning: find_element_by_* commands are deprecated. Please use find_element() instead\n",
      "  search=driver.find_element_by_id('search_query_top')\n"
     ]
    },
    {
     "name": "stdout",
     "output_type": "stream",
     "text": [
      "a text was typed inside the search bar \n"
     ]
    },
    {
     "name": "stderr",
     "output_type": "stream",
     "text": [
      "C:\\Users\\skand\\AppData\\Local\\Temp/ipykernel_30188/630830232.py:19: DeprecationWarning: find_element_by_* commands are deprecated. Please use find_element() instead\n",
      "  search_button=driver.find_element_by_name('submit_search')\n",
      "C:\\Users\\skand\\AppData\\Local\\Temp/ipykernel_30188/630830232.py:25: DeprecationWarning: find_element_by_* commands are deprecated. Please use find_element() instead\n",
      "  contac=driver.find_element_by_link_text('Contact us')\n"
     ]
    }
   ],
   "source": [
    "chrome_options=Options()\n",
    "chrome_options.add_argument('--headless')\n",
    "#initialize chrome\n",
    "driver=webdriver.Chrome('D:\\chromedriver.exe',options=chrome_options)\n",
    "driver.get(web2)\n",
    "time.sleep(2)\n",
    "print(\"web site was opned\")\n",
    "#maximize window\n",
    "driver.maximize_window()\n",
    "#send keys and click on button\n",
    "search=driver.find_element_by_id('search_query_top')\n",
    "search.click()\n",
    "time.sleep(2)\n",
    "#type text inside the search bar\n",
    "search.send_keys('heee')\n",
    "time.sleep(2)\n",
    "print(\"a text was typed inside the search bar \")\n",
    "#submit search request\n",
    "search_button=driver.find_element_by_name('submit_search')\n",
    "search_button.click()\n",
    "#go back\n",
    "driver.back()\n",
    "time.sleep(2)\n",
    "#click contact us -- link text locator\n",
    "contac=driver.find_element_by_link_text('Contact us')\n",
    "contac.click()\n",
    "#close driver at the end\n",
    "driver.close()\n"
   ]
  }
 ],
 "metadata": {
  "interpreter": {
   "hash": "68bdcb2e538ad09b17d5d43ac81ac9642b8effe452d2956a69f8bf2bdb4199e3"
  },
  "kernelspec": {
   "display_name": "Python 3.9.7 ('base')",
   "language": "python",
   "name": "python3"
  },
  "language_info": {
   "codemirror_mode": {
    "name": "ipython",
    "version": 3
   },
   "file_extension": ".py",
   "mimetype": "text/x-python",
   "name": "python",
   "nbconvert_exporter": "python",
   "pygments_lexer": "ipython3",
   "version": "3.9.7"
  },
  "orig_nbformat": 4
 },
 "nbformat": 4,
 "nbformat_minor": 2
}
