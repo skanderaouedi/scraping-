{
 "cells": [
  {
   "cell_type": "code",
   "execution_count": 23,
   "metadata": {},
   "outputs": [],
   "source": [
    "from selenium import webdriver\n",
    "import pandas as pd\n",
    "import time \n",
    "from selenium.webdriver.common.keys import Keys\n",
    "from selenium.webdriver.common.by import By\n",
    "from selenium.webdriver.chrome.options import Options\n",
    "import time"
   ]
  },
  {
   "cell_type": "code",
   "execution_count": null,
   "metadata": {},
   "outputs": [],
   "source": [
    "driver=webdriver.Chrome(executable_path='D:\\chromedriver.exe')\n",
    "driver.get('https://www.yelp.com/search?find_desc=Dentists&find_loc=San+Francisco%2C+CA&ns=1')\n",
    "driver.maximize_window()\n",
    "time.sleep(2)"
   ]
  },
  {
   "cell_type": "markdown",
   "metadata": {},
   "source": [
    "Accept Cookies"
   ]
  },
  {
   "cell_type": "code",
   "execution_count": null,
   "metadata": {},
   "outputs": [],
   "source": [
    "cookies=driver.find_element_by_id('onetrust_accept_button')\n",
    "cookies.click()"
   ]
  },
  {
   "cell_type": "markdown",
   "metadata": {},
   "source": [
    "Taregt the data we want to scrape:\n",
    "name\n",
    "telephone\n",
    "address\n",
    "expretise\n",
    "stars\n",
    "rating count"
   ]
  },
  {
   "cell_type": "code",
   "execution_count": null,
   "metadata": {},
   "outputs": [],
   "source": [
    "driver=webdriver.Chrome(executable_path='D:\\chromedriver.exe')\n",
    "driver.get('https://www.yelp.com/search?find_desc=Dentists&find_loc=San+Francisco%2C+CA&ns=1')\n",
    "driver.maximize_window()\n",
    "time.sleep(2)\n",
    "names=driver.find_elements_by_xpath('//h3[@class=\"css-uvzfg9\"]/span/a')\n",
    "stars=driver.find_elements_by_xpath('//div[@class=\" i-stars__09f24__foihJ i-stars--regular-4-half__09f24__hBtsc border-color--default__09f24__NPAKY overflow--hidden__09f24___ayzG\"]')\n",
    "expertise=driver.find_elements_by_xpath('//div[@class=\" border-color--default__09f24__NPAKY\"]/div/div/div/p/span') \n",
    "rating=driver.find_elements_by_xpath('//div[@class=\" attribute__09f24__hqUj7 display--inline-block__09f24__fEDiJ border-color--default__09f24__NPAKY\"]/span')\n",
    "\n"
   ]
  },
  {
   "cell_type": "code",
   "execution_count": null,
   "metadata": {},
   "outputs": [],
   "source": []
  },
  {
   "cell_type": "code",
   "execution_count": null,
   "metadata": {},
   "outputs": [],
   "source": [
    "df=pd.DataFrame()\n"
   ]
  },
  {
   "cell_type": "code",
   "execution_count": null,
   "metadata": {},
   "outputs": [],
   "source": [
    "ln=[]\n",
    "la=[]\n",
    "le=[]\n",
    "lr=[]\n",
    "ls=list()\n",
    "for x in names:\n",
    "    ln.append(x.text)\n",
    "for x in expertise:\n",
    "    le.append(x.text)\n",
    "for x in rating:\n",
    "    lr.append(x.text)\n",
    "for x in stars:\n",
    "    ls.append(x.get_attribute('aria-label') )\n",
    "    \n"
   ]
  },
  {
   "cell_type": "code",
   "execution_count": null,
   "metadata": {},
   "outputs": [],
   "source": [
    "df['names']=ln\n",
    "df['expertise']=le\n",
    "df['rating']=lr\n",
    "df['stars']=ls"
   ]
  },
  {
   "cell_type": "code",
   "execution_count": null,
   "metadata": {},
   "outputs": [],
   "source": [
    "df.to_excel('scraping.xlsx',index=False)"
   ]
  },
  {
   "cell_type": "code",
   "execution_count": null,
   "metadata": {},
   "outputs": [],
   "source": [
    "#num telephone\n",
    "driver=webdriver.Chrome(executable_path='D:\\chromedriver.exe')\n",
    "driver.get('https://www.yelp.com/search?find_desc=Dentists&find_loc=San+Francisco%2C+CA&ns=1')\n",
    "driver.maximize_window()\n",
    "telp=list()\n",
    "l=list()\n",
    "names=driver.find_elements_by_xpath('//h3[@class=\"css-uvzfg9\"]/span/a')\n",
    "for i in names:\n",
    "    if i.text not in l:\n",
    "        l.append(i.text)\n",
    "        k=driver.find_element_by_name(i.text)\n",
    "        time.sleep(1)\n",
    "        k.click()\n",
    "        tel=driver.find_element_by_xpath('//div[@class=\" css-xp8w2v padding-t2__09f24__Y6duA padding-r2__09f24__ByXi4 padding-b2__09f24__F0z5y padding-l2__09f24__kf_t_ border--top__09f24__exYYb border--right__09f24__X7Tln border--bottom__09f24___mg5X border--left__09f24__DMOkM border-radius--regular__09f24__MLlCO background-color--white__09f24__ulvSM\"]/div[2]/div[@class=\" arrange__09f24__LDfbs gutter-2__09f24__CCmUo vertical-align-middle__09f24__zU9sE border-color--default__09f24__NPAKY\"]/div/p[@class=\" css-1h7ysrc\"]')\n",
    "        telp.append(tel.text)\n",
    "        time.sleep(3)\n",
    "        driver.back()\n",
    "        time.sleep(3)\n",
    "        names=driver.find_elements_by_xpath('//h3[@class=\"css-uvzfg9\"]/span/a')\n",
    "    \n",
    "\n",
    "\n"
   ]
  },
  {
   "cell_type": "code",
   "execution_count": 29,
   "metadata": {},
   "outputs": [],
   "source": [
    "\n",
    "def search(names,l,i):\n",
    "    if len(names)==len(l):\n",
    "        return telp\n",
    "    \n",
    "    if names[i].text not in l:\n",
    "        l.append(names[i].text)\n",
    "        k=driver.find_element_by_name(names[i].text)\n",
    "        time.sleep(1)\n",
    "        k.click()\n",
    "        tel=driver.find_element(By.XPATH('//div[@class=\" css-xp8w2v padding-t2__09f24__Y6duA padding-r2__09f24__ByXi4 padding-b2__09f24__F0z5y padding-l2__09f24__kf_t_ border--top__09f24__exYYb border--right__09f24__X7Tln border--bottom__09f24___mg5X border--left__09f24__DMOkM border-radius--regular__09f24__MLlCO background-color--white__09f24__ulvSM\"]/div[2]/div[@class=\" arrange__09f24__LDfbs gutter-2__09f24__CCmUo vertical-align-middle__09f24__zU9sE border-color--default__09f24__NPAKY\"]/div/p[2]'))\n",
    "        telp.append(tel.text)\n",
    "        time.sleep(3)\n",
    "        driver.back()\n",
    "\n",
    "        time.sleep(3)\n",
    "        \n",
    "    search (driver.find_elements_by_xpath('//h3[@class=\"css-uvzfg9\"]/span/a'),l,i+1)\n",
    "        \n",
    "\n",
    "    "
   ]
  },
  {
   "cell_type": "code",
   "execution_count": 30,
   "metadata": {},
   "outputs": [
    {
     "ename": "SyntaxError",
     "evalue": "positional argument follows keyword argument (Temp/ipykernel_37832/868013575.py, line 2)",
     "output_type": "error",
     "traceback": [
      "\u001b[1;36m  File \u001b[1;32m\"C:\\Users\\skand\\AppData\\Local\\Temp/ipykernel_37832/868013575.py\"\u001b[1;36m, line \u001b[1;32m2\u001b[0m\n\u001b[1;33m    search(driver.find_elements_by_xpath('//h3[@class=\"css-uvzfg9\"]/span/a'),l=[],i)\u001b[0m\n\u001b[1;37m                                                                                   ^\u001b[0m\n\u001b[1;31mSyntaxError\u001b[0m\u001b[1;31m:\u001b[0m positional argument follows keyword argument\n"
     ]
    }
   ],
   "source": [
    "i=0\n",
    "search(driver.find_elements_by_xpath('//h3[@class=\"css-uvzfg9\"]/span/a'),l=[],i)"
   ]
  }
 ],
 "metadata": {
  "interpreter": {
   "hash": "7dbb69f2fe16ee411a1d001fc5a919d66021ed1f9a71b5ac22cd67380668a935"
  },
  "kernelspec": {
   "display_name": "Python 3.7.1 64-bit",
   "language": "python",
   "name": "python3"
  },
  "language_info": {
   "codemirror_mode": {
    "name": "ipython",
    "version": 3
   },
   "file_extension": ".py",
   "mimetype": "text/x-python",
   "name": "python",
   "nbconvert_exporter": "python",
   "pygments_lexer": "ipython3",
   "version": "3.9.7"
  },
  "orig_nbformat": 4
 },
 "nbformat": 4,
 "nbformat_minor": 2
}
